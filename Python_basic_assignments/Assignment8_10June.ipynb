{
 "cells": [
  {
   "cell_type": "code",
   "execution_count": 1,
   "id": "ceebeeb2",
   "metadata": {},
   "outputs": [
    {
     "name": "stdout",
     "output_type": "stream",
     "text": [
      "50\n"
     ]
    }
   ],
   "source": [
    "# 1. In Python, what is the difference between a built-in function and a user-defined function? Provide an example of each.\n",
    "\n",
    "'''Build in functions are already defined in python package and available to everyone for use.\n",
    "e.g. random() from package random\n",
    "User defined functions are created by users as per their requirement.'''\n",
    "\n",
    "def total_bill():\n",
    "    return 50\n",
    "\n",
    "# this function will return total bill, hardcoded as 50 in above example\n",
    "\n",
    "print(total_bill())"
   ]
  },
  {
   "cell_type": "code",
   "execution_count": 2,
   "id": "c2ce4894",
   "metadata": {},
   "outputs": [
    {
     "data": {
      "text/plain": [
       "'Arguments can be passed to function calls inside ()\\nPositional arguments: used where strict order is followed for arguments\\nKeyword arguments: with keyword arguments, function call is made with argument name and its value pairs.'"
      ]
     },
     "execution_count": 2,
     "metadata": {},
     "output_type": "execute_result"
    }
   ],
   "source": [
    "# 2. How can you pass arguments to a function in Python? Explain the difference between positional arguments and keyword\n",
    "# arguments.\n",
    "\n",
    "'''Arguments can be passed to function calls inside ()\n",
    "Positional arguments: used where strict order is followed for arguments\n",
    "Keyword arguments: with keyword arguments, function call is made with argument name and its value pairs.'''\n"
   ]
  },
  {
   "cell_type": "code",
   "execution_count": 5,
   "id": "16328e44",
   "metadata": {},
   "outputs": [
    {
     "name": "stdout",
     "output_type": "stream",
     "text": [
      "True\n"
     ]
    }
   ],
   "source": [
    "#3. What is the purpose of the return statement in a function? Can a function have multiple return\n",
    "# statements? Explain with an example.\n",
    "\n",
    "'''Return statement is used to return a value from the function to calling entity.\n",
    "A function can have multiple return statement with if-else clause, However only one of them will be executed.\n",
    "Example:'''\n",
    "\n",
    "def func():\n",
    "    if 1>2:\n",
    "        return False\n",
    "    else:\n",
    "        return True\n",
    "    \n",
    "print(func())\n",
    "\n"
   ]
  },
  {
   "cell_type": "code",
   "execution_count": 6,
   "id": "bfbd3934",
   "metadata": {},
   "outputs": [
    {
     "data": {
      "text/plain": [
       "'Lambda function is defined without a name and is used for single statement methods.\\ne.g.\\nx= lambda a,b:a+b\\nabove method will store sum of a and b in variable x.'"
      ]
     },
     "execution_count": 6,
     "metadata": {},
     "output_type": "execute_result"
    }
   ],
   "source": [
    "#4. What are lambda functions in Python? How are they different from regular functions? Provide an\n",
    "#example where a lambda function can be useful.\n",
    "\n",
    "'''Lambda function is defined without a name and is used for single statement methods.\n",
    "e.g.\n",
    "x= lambda a,b:a+b\n",
    "above method will store sum of a and b in variable x.'''\n"
   ]
  },
  {
   "cell_type": "code",
   "execution_count": 7,
   "id": "ee3395b5",
   "metadata": {},
   "outputs": [
    {
     "data": {
      "text/plain": [
       "'Variables defined inside a method have a local scope and such variables can not be accessed outside that method.\\nVariables defined outside any method has global access and can be accessed inside methods also.\\n'"
      ]
     },
     "execution_count": 7,
     "metadata": {},
     "output_type": "execute_result"
    }
   ],
   "source": [
    "# 5. How does the concept of \"scope\" apply to functions in Python? Explain the difference between local\n",
    "# scope and global scope.\n",
    "\n",
    "'''Variables defined inside a method have a local scope and such variables can not be accessed outside that method.\n",
    "Variables defined outside any method has global access and can be accessed inside methods also.\n",
    "'''"
   ]
  },
  {
   "cell_type": "code",
   "execution_count": null,
   "id": "b0e84bda",
   "metadata": {},
   "outputs": [],
   "source": [
    "#6. How can you use the \"return\" statement in a Python function to return multiple values?\n",
    "\n",
    "'''return can return multiple values by returning a variable of data type which can hold multiple items,\n",
    "eg. List, tuple, dictionary, object'''"
   ]
  },
  {
   "cell_type": "code",
   "execution_count": null,
   "id": "430df65d",
   "metadata": {},
   "outputs": [],
   "source": [
    "# 7. What is the difference between the \"pass by value\" and \"pass by reference\" concepts when it\n",
    "# comes to function arguments in Python?\n",
    "\n",
    "'''In Python, mutable datatypes like list,set are passed by reference to method by default.\n",
    "Hence any change made to such variables inside the method is reflected on original variable.\n",
    "To avoid changes to original variable, we can pass copy of the variable as an argument for the method.\n",
    "Immutable variables or variables of primitive datatypes are passed by value to the methods, Inside method,\n",
    "copy of the variable is used.'''\n"
   ]
  },
  {
   "cell_type": "markdown",
   "id": "b84c3de7",
   "metadata": {},
   "source": [
    "8. Create a function that can intake integer or decimal value and do following operations:\n",
    "a. Logarithmic function (log x)\n",
    "b. Exponential function (exp(x))\n",
    "c. Power function with base 2 (2x)\n",
    "d. Square root\n"
   ]
  },
  {
   "cell_type": "code",
   "execution_count": 8,
   "id": "ee8191f5",
   "metadata": {},
   "outputs": [
    {
     "name": "stdout",
     "output_type": "stream",
     "text": [
      "log(25): 3.2188758248682006\n",
      "exp(25): 72004899337.38588\n",
      "pow(25,2): 625.0\n",
      "sqrt(25): 5.0\n",
      "\n"
     ]
    }
   ],
   "source": [
    "import math\n",
    "def calc(a):\n",
    "    print(f\"log({a}): {math.log(a)}\")\n",
    "    print(f\"exp({a}): {math.exp(a)}\")\n",
    "    print(f\"pow({a},2): {math.pow(a,2)}\")\n",
    "    print(f\"sqrt({a}): {math.sqrt(a)}\")\n",
    "    print()\n",
    "    \n",
    "calc(25)\n"
   ]
  },
  {
   "cell_type": "code",
   "execution_count": 9,
   "id": "8b7e694a",
   "metadata": {},
   "outputs": [
    {
     "data": {
      "text/plain": [
       "['Monika', 'Bhabhoria']"
      ]
     },
     "execution_count": 9,
     "metadata": {},
     "output_type": "execute_result"
    }
   ],
   "source": [
    "# 9. Create a function that takes a full name as an argument and returns first name and last name.\n",
    "\n",
    "def name(a):\n",
    "    sp=a.split(\" \")\n",
    "    return [sp[0],sp[-1]]\n",
    "\n",
    "name(\"Monika Sharma Bhabhoria\")\n"
   ]
  },
  {
   "cell_type": "code",
   "execution_count": null,
   "id": "e9606c83",
   "metadata": {},
   "outputs": [],
   "source": []
  }
 ],
 "metadata": {
  "kernelspec": {
   "display_name": "Python 3 (ipykernel)",
   "language": "python",
   "name": "python3"
  },
  "language_info": {
   "codemirror_mode": {
    "name": "ipython",
    "version": 3
   },
   "file_extension": ".py",
   "mimetype": "text/x-python",
   "name": "python",
   "nbconvert_exporter": "python",
   "pygments_lexer": "ipython3",
   "version": "3.11.3"
  }
 },
 "nbformat": 4,
 "nbformat_minor": 5
}
