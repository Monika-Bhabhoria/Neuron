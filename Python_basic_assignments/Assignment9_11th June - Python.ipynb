{
 "cells": [
  {
   "cell_type": "markdown",
   "id": "1b60b91d",
   "metadata": {},
   "source": [
    "# Assignment 11 June"
   ]
  },
  {
   "cell_type": "markdown",
   "id": "13bf7916",
   "metadata": {},
   "source": [
    "1. What is a lambda function in Python, and how does it differ from a regular function?\n",
    "2. Can a lambda function in Python have multiple arguments? If yes, how can you define and use\n",
    "them?\n",
    "3. How are lambda functions typically used in Python? Provide an example use case.\n",
    "4. What are the advantages and limitations of lambda functions compared to regular functions in\n",
    "Python?\n",
    "5. Are lambda functions in Python able to access variables defined outside of their own scope?\n",
    "Explain with an example.\n",
    "6. Write a lambda function to calculate the square of a given number.\n",
    "7. Create a lambda function to find the maximum value in a list of integers.\n",
    "8. Implement a lambda function to filter out all the even numbers from a list of integers.\n",
    "9. Write a lambda function to sort a list of strings in ascending order based on the length of each\n",
    "string.\n",
    "10. Create a lambda function that takes two lists as input and returns a new list containing the\n",
    "common elements between the two lists.\n",
    "11. Write a recursive function to calculate the factorial of a given positive integer.\n",
    "12. Implement a recursive function to compute the nth Fibonacci number.\n",
    "13. Create a recursive function to find the sum of all the elements in a given list.\n",
    "14. Write a recursive function to determine whether a given string is a palindrome.\n",
    "15. Implement a recursive function to find the greatest common divisor (GCD) of two positive integers."
   ]
  },
  {
   "cell_type": "code",
   "execution_count": 2,
   "id": "3c24dfdb",
   "metadata": {},
   "outputs": [
    {
     "name": "stdout",
     "output_type": "stream",
     "text": [
      "x= 12, y= 12\n"
     ]
    }
   ],
   "source": [
    "#1. What is a lambda function in Python, and how does it differ from a regular function?\n",
    "\n",
    "\"\"\"\n",
    "Lambda functions are anonymous, single statement function\n",
    "\"\"\"\n",
    "\n",
    "# regular sum method\n",
    "def add(a,b):\n",
    "    return a+b\n",
    "\n",
    "m=4\n",
    "n=8\n",
    "x=add(m,n)\n",
    "\n",
    "#lambda function\n",
    "addL=lambda a,b:a+b\n",
    "y=addL(m,n)\n",
    "\n",
    "print(f\"x= {x}, y= {y}\")"
   ]
  },
  {
   "cell_type": "code",
   "execution_count": 3,
   "id": "50dc66f8",
   "metadata": {},
   "outputs": [
    {
     "name": "stdout",
     "output_type": "stream",
     "text": [
      "12.0\n"
     ]
    }
   ],
   "source": [
    "# 2. Can a lambda function in Python have multiple arguments? If yes, how can you define and use them?\n",
    "\"\"\"\n",
    "Yes, lambda function can have multiple arguments as well\n",
    "\"\"\"\n",
    "\n",
    "simpleInterest=lambda p,r,t: (p*r*t)/100\n",
    "\n",
    "print(simpleInterest(100,3,4))"
   ]
  },
  {
   "cell_type": "code",
   "execution_count": 4,
   "id": "2b7b2bea",
   "metadata": {},
   "outputs": [
    {
     "name": "stdout",
     "output_type": "stream",
     "text": [
      "10000\n"
     ]
    }
   ],
   "source": [
    "#3. How are lambda functions typically used in Python? Provide an example use case.\n",
    "\n",
    "\"\"\"\n",
    "lambda functions are used where method goal can be achieved under one statement.\n",
    "In lambda function, we dont need to add a separate return statement.\n",
    "\"\"\"\n",
    "\n",
    "carprice=lambda year: 10000 if year<2015 else 250000\n",
    "print(carprice(2014))"
   ]
  },
  {
   "cell_type": "code",
   "execution_count": null,
   "id": "0d1cdaa9",
   "metadata": {},
   "outputs": [],
   "source": [
    "#4. What are the advantages and limitations of lambda functions compared to regular functions in Python?\n",
    "\n",
    "\"\"\"\n",
    "Advantage:\n",
    "-No separate return statement required\n",
    "-simple and easy to understand\n",
    "-No additional variables added\n",
    "\n",
    "\n",
    "Disadvantages:\n",
    "- Since everything is written under one statement, Hence complex to understand\n",
    "- can contain only one statement, hence can be used for simpler goals only.\n",
    "\n",
    "\"\"\"\n"
   ]
  },
  {
   "cell_type": "code",
   "execution_count": 5,
   "id": "9fcd4e6c",
   "metadata": {},
   "outputs": [
    {
     "name": "stdout",
     "output_type": "stream",
     "text": [
      "32.0\n"
     ]
    }
   ],
   "source": [
    "#5. Are lambda functions in Python able to access variables defined outside of their own scope? Explain with an example.\n",
    "\"\"\"\n",
    "Yes, lambda functions can access variables defined outside it.\n",
    "\"\"\"\n",
    "import math\n",
    "p=5\n",
    "x=lambda a: math.pow(a,5)\n",
    "print(x(2))"
   ]
  },
  {
   "cell_type": "code",
   "execution_count": 6,
   "id": "30282111",
   "metadata": {},
   "outputs": [
    {
     "name": "stdout",
     "output_type": "stream",
     "text": [
      "25\n"
     ]
    }
   ],
   "source": [
    "#6. Write a lambda function to calculate the square of a given number.\n",
    "\n",
    "import math\n",
    "sq=lambda a: a*a\n",
    "\n",
    "print(sq(5))\n"
   ]
  },
  {
   "cell_type": "code",
   "execution_count": 7,
   "id": "9bcfcfac",
   "metadata": {},
   "outputs": [
    {
     "name": "stdout",
     "output_type": "stream",
     "text": [
      "98\n"
     ]
    }
   ],
   "source": [
    "#7. Create a lambda function to find the maximum value in a list of integers.\n",
    "\"\"\"\n",
    "Concept is the return first element if list has only one item else search recursively.\n",
    "\n",
    "\"\"\"\n",
    "\n",
    "maxL=lambda x: x[0] if len(x)==1 else x[0] if x[0]>maxL(x[1:]) else maxL(x[1:])\n",
    "\n",
    "print(maxL([56,34,76,12,22,55,2,98]))\n"
   ]
  },
  {
   "cell_type": "code",
   "execution_count": 8,
   "id": "f23c5b00",
   "metadata": {},
   "outputs": [
    {
     "name": "stdout",
     "output_type": "stream",
     "text": [
      "[536, 46, 2, 54, 8]\n"
     ]
    }
   ],
   "source": [
    "#8. Implement a lambda function to filter out all the even numbers from a list of integers.\n",
    "\n",
    "\"\"\"\n",
    "Use filter to collect all the even numbers from a list using lambda function\n",
    "\"\"\"\n",
    "\n",
    "li=[536,46,65,2,54,7,23,8,87,23]\n",
    "even=list(filter(lambda n :n%2==0,li ))\n",
    "print(even)\n"
   ]
  },
  {
   "cell_type": "code",
   "execution_count": 9,
   "id": "c1595770",
   "metadata": {},
   "outputs": [
    {
     "name": "stdout",
     "output_type": "stream",
     "text": [
      "['so', 'abc', 'why', 'name', 'where', 'Monika']\n"
     ]
    }
   ],
   "source": [
    "#9. Write a lambda function to sort a list of strings in ascending order based on the length of each string.\n",
    "\n",
    "li=[\"abc\",\"name\",\"Monika\",\"why\",\"so\",\"where\"]  #random ordered list\n",
    "sortedLi=sorted(li,key= lambda x:len(x)) # list is sorted using sorted method using key length, lambda is used to get len of element\n",
    "print(sortedLi)"
   ]
  },
  {
   "cell_type": "code",
   "execution_count": 14,
   "id": "7ed56fb9",
   "metadata": {},
   "outputs": [
    {
     "name": "stdout",
     "output_type": "stream",
     "text": [
      "No common elements\n"
     ]
    }
   ],
   "source": [
    "#10.Create a lambda function that takes two lists as input and returns a new list containing the common elements from lists.\n",
    "\n",
    "li1=[\"a\",\"dv\",\"ed\",\"ik\"]\n",
    "li2=[\"a1\",\"dv1\",\"ed1\",\"ik1\"]\n",
    "\n",
    "common= lambda a,b:set(a).intersection(set(b))  # converted lists to set and then applied intersection\n",
    "res=common(li1,li2) # lambda function called\n",
    "\n",
    "if len(res)>0: \n",
    "    print(res)\n",
    "else:\n",
    "    print(\"No common elements\")"
   ]
  },
  {
   "cell_type": "code",
   "execution_count": 17,
   "id": "5d135ab9",
   "metadata": {},
   "outputs": [
    {
     "name": "stdout",
     "output_type": "stream",
     "text": [
      "120\n",
      "2\n",
      "1\n"
     ]
    }
   ],
   "source": [
    "#11. Write a recursive function to calculate the factorial of a given positive integer.\n",
    "\n",
    "def fact(n):\n",
    "    if n==1 or n==0:  #return 1 if number is 0 or 1\n",
    "        return 1\n",
    "    else:\n",
    "        return n*fact(n-1)  # return num * factorial(num-1)\n",
    "    \n",
    "print(fact(5))\n",
    "print(fact(2))\n",
    "print(fact(0))"
   ]
  },
  {
   "cell_type": "code",
   "execution_count": 20,
   "id": "c24629e2",
   "metadata": {},
   "outputs": [
    {
     "name": "stdout",
     "output_type": "stream",
     "text": [
      "5\n",
      "21\n",
      "1\n"
     ]
    }
   ],
   "source": [
    "#12. Implement a recursive function to compute the nth Fibonacci number.\n",
    "# fib series is  1 1 2 3 5 8 13 21\n",
    "#n at each place 0 1 2 3 4 5 6 7\n",
    "def fib(n):\n",
    "    if n==1 or n==0:\n",
    "        return 1\n",
    "    else:\n",
    "        return fib(n-1)+fib(n-2)\n",
    "print(fib(4))\n",
    "print(fib(7))\n",
    "print(fib(0))"
   ]
  },
  {
   "cell_type": "code",
   "execution_count": 23,
   "id": "a0bad14d",
   "metadata": {},
   "outputs": [
    {
     "name": "stdout",
     "output_type": "stream",
     "text": [
      "21\n",
      "0\n"
     ]
    }
   ],
   "source": [
    "#13. Create a recursive function to find the sum of all the elements in a given list.\n",
    "\n",
    "def sumAll(li):\n",
    "    if not li:  # if list is empty\n",
    "        return 0\n",
    "    else:\n",
    "        last=li.pop()  # pop last element\n",
    "        return last+sumAll(li) # return last element+sum of remaining elements\n",
    "    \n",
    "print(sumAll([1,4,5,3,8]))\n",
    "print(sumAll([]))"
   ]
  },
  {
   "cell_type": "code",
   "execution_count": 27,
   "id": "b52bbcef",
   "metadata": {},
   "outputs": [
    {
     "name": "stdout",
     "output_type": "stream",
     "text": [
      "True\n",
      "True\n",
      "False\n"
     ]
    }
   ],
   "source": [
    "#14. Write a recursive function to determine whether a given string is a palindrome.\n",
    "\n",
    "def isPalindrome(x,s,e):\n",
    "    if s==e:\n",
    "        return True\n",
    "    if x[s]!=x[e]:\n",
    "        return False\n",
    "    if s<e+1:\n",
    "        return isPalindrome(x,s+1,e-1)\n",
    "    return True\n",
    "\n",
    "def palin(x):\n",
    "    if len(x)==0:\n",
    "        return True\n",
    "    return isPalindrome(x,0,len(x)-1)\n",
    "        \n",
    "        \n",
    "print(palin(\"aba\"))\n",
    "print(palin(\"abba\"))\n",
    "print(palin(\"abbat\"))"
   ]
  },
  {
   "cell_type": "code",
   "execution_count": 33,
   "id": "166ba098",
   "metadata": {},
   "outputs": [
    {
     "name": "stdout",
     "output_type": "stream",
     "text": [
      "3\n",
      "3\n",
      "11\n",
      "16\n",
      "6\n",
      "3\n"
     ]
    }
   ],
   "source": [
    "#15. Implement a recursive function to find the greatest common divisor (GCD) of two positive integers.\n",
    "\n",
    "def gcd(x,y):\n",
    "    if y==0:\n",
    "        return x\n",
    "    else:\n",
    "        return gcd(y,x%y)\n",
    "    \n",
    "print(gcd(3,6))\n",
    "print(gcd(9,6))\n",
    "print(gcd(33,11))\n",
    "print(gcd(16,64))\n",
    "print(gcd(0,6))\n",
    "print(gcd(3,0))"
   ]
  },
  {
   "cell_type": "code",
   "execution_count": null,
   "id": "ff875ee0",
   "metadata": {},
   "outputs": [],
   "source": []
  }
 ],
 "metadata": {
  "kernelspec": {
   "display_name": "Python 3 (ipykernel)",
   "language": "python",
   "name": "python3"
  },
  "language_info": {
   "codemirror_mode": {
    "name": "ipython",
    "version": 3
   },
   "file_extension": ".py",
   "mimetype": "text/x-python",
   "name": "python",
   "nbconvert_exporter": "python",
   "pygments_lexer": "ipython3",
   "version": "3.11.3"
  }
 },
 "nbformat": 4,
 "nbformat_minor": 5
}
