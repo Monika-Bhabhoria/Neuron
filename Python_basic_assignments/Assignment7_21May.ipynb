{
 "cells": [
  {
   "cell_type": "markdown",
   "id": "5ff1b741",
   "metadata": {},
   "source": [
    "Q.1. Create two int type variables, apply addition, subtraction, division and multiplications\n",
    "and store the results in variables. Then print the data in the following format by calling the\n",
    "variables:\n",
    "First variable is __ & second variable is __.\n",
    "Addition: __ + __ = __\n",
    "Subtraction: __ - __ = __\n",
    "Multiplication: __ * __ = __\n",
    "Division: __ / __ = __\n"
   ]
  },
  {
   "cell_type": "code",
   "execution_count": 1,
   "id": "7cafb6d1",
   "metadata": {},
   "outputs": [
    {
     "name": "stdout",
     "output_type": "stream",
     "text": [
      "First variable is 3 , second variable is 4\n",
      "Addition: 3 + 4 = 7\n",
      "Subtraction: 3 - 4 = -1\n",
      "Multiplication: 3 * 4 = 12\n",
      "Division: 3 / 4 = 0.75\n"
     ]
    }
   ],
   "source": [
    "a=3\n",
    "b=4\n",
    "sum1=a+b\n",
    "sub1=a-b\n",
    "product1=a*b\n",
    "div1=a/b\n",
    "\n",
    "print(f\"First variable is {a} , second variable is {b}\")\n",
    "print(f\"Addition: {a} + {b} = {sum1}\")\n",
    "print(f\"Subtraction: {a} - {b} = {sub1}\")\n",
    "print(f\"Multiplication: {a} * {b} = {product1}\")\n",
    "print(f\"Division: {a} / {b} = {div1}\")\n"
   ]
  },
  {
   "cell_type": "markdown",
   "id": "dc1c7fb0",
   "metadata": {},
   "source": [
    "Q.2. What is the difference between the following operators:\n",
    "(i) ‘/’ & ‘//’\n",
    "(ii) ‘**’ & ‘^’\n"
   ]
  },
  {
   "cell_type": "markdown",
   "id": "4bb196f6",
   "metadata": {},
   "source": [
    "Q2 : Answer \n",
    "1) :/ is true division while // rounds off the division result.\n",
    "e.g. 7/2=3.5\n",
    "7//2=3\n",
    "2 )** is used for denoting power. Eg. 2**3 = 2*2*2\n",
    "^ is bitwise operator, this is XOR operator which sets the bit to 1 only if one of the bit is 1.\n"
   ]
  },
  {
   "cell_type": "code",
   "execution_count": 10,
   "id": "b796a21c",
   "metadata": {},
   "outputs": [
    {
     "name": "stdout",
     "output_type": "stream",
     "text": [
      "/ and // where a=7,b=2\n",
      "a/b= 3.5\n",
      "a//b= 3\n",
      "~~~~~~~~~~~\n",
      "** and ^ where a=7,b=2\n",
      "a**b= 49\n",
      "a^b= 5\n"
     ]
    }
   ],
   "source": [
    "#example:\n",
    "a=7\n",
    "b=2\n",
    "print(\"/ and // where a=7,b=2\")\n",
    "print(f\"a/b= {a/b}\")\n",
    "print(f\"a//b= {a//b}\")\n",
    "print(\"~~~~~~~~~~~\")\n",
    "print(\"** and ^ where a=7,b=2\")\n",
    "print(f\"a**b= {a**b}\")\n",
    "print(f\"a^b= {a^b}\")"
   ]
  },
  {
   "cell_type": "markdown",
   "id": "e4da9d26",
   "metadata": {},
   "source": [
    "#Q.3. List the logical operators.\n",
    "Answer: Logical operator: and, or , not"
   ]
  },
  {
   "cell_type": "markdown",
   "id": "672b5e25",
   "metadata": {},
   "source": [
    "Q.4. Explain right shift operator and left shift operator with examples."
   ]
  },
  {
   "cell_type": "markdown",
   "id": "7d12529c",
   "metadata": {},
   "source": [
    "# Q4 Answer\n",
    "\n",
    "Right shift operator: >> shifts the bits to right by number of places specified.\n",
    " e.g. 4>>1  =2\n",
    " binary equivalent of 4= 0100 \n",
    " 0100>>1 = 0010 = 2 in decimal system\n",
    "\n",
    "Other example:\n",
    "12>>3 \n",
    "1100>>3=0001 = 1 in decimal system\n",
    "\n",
    "Left shift operator: << shifts the bits to left and fill the empty spaces with zeros\n",
    "e.g.\n",
    "6 << 2\n",
    "0110<<2 =011000 =24 in decimal system\n",
    "\n",
    "\n"
   ]
  },
  {
   "cell_type": "code",
   "execution_count": 12,
   "id": "aa5032c5",
   "metadata": {},
   "outputs": [
    {
     "name": "stdout",
     "output_type": "stream",
     "text": [
      "[48, 2, 24, 9, 41, 15, 2, 40, 2, 9, 45, 6, 31, 40, 15]\n",
      "10 is not present\n"
     ]
    }
   ],
   "source": [
    "# Q.5. Create a list containing int type data of length 15. Then write a code to check if 10 is present in the list or not.\n",
    "import random\n",
    "li=[]\n",
    "for i in range(15):\n",
    "    li.append(random.randint(1,50))\n",
    "    \n",
    "print(li)\n",
    "    \n",
    "if (10 in li):\n",
    "    print(\"10 exists in the list\")\n",
    "else:\n",
    "    print(\"10 is not present\")\n",
    "\n"
   ]
  },
  {
   "cell_type": "code",
   "execution_count": null,
   "id": "397e6096",
   "metadata": {},
   "outputs": [],
   "source": []
  }
 ],
 "metadata": {
  "kernelspec": {
   "display_name": "Python 3 (ipykernel)",
   "language": "python",
   "name": "python3"
  },
  "language_info": {
   "codemirror_mode": {
    "name": "ipython",
    "version": 3
   },
   "file_extension": ".py",
   "mimetype": "text/x-python",
   "name": "python",
   "nbconvert_exporter": "python",
   "pygments_lexer": "ipython3",
   "version": "3.11.3"
  }
 },
 "nbformat": 4,
 "nbformat_minor": 5
}
