{
 "cells": [
  {
   "cell_type": "markdown",
   "id": "b0e46490",
   "metadata": {},
   "source": [
    "# 17 June Assignment"
   ]
  },
  {
   "cell_type": "markdown",
   "id": "19a3837b",
   "metadata": {},
   "source": [
    "1. What is the role of try and exception block?\n",
    "2. What is the syntax for a basic try-except block?\n",
    "3. What happens if an exception occurs inside a try block and there is no matching\n",
    "except block?\n",
    "4. What is the difference between using a bare except block and specifying a specific\n",
    "exception type?\n",
    "5. Can you have nested try-except blocks in Python? If yes, then give an example.\n",
    "6. Can we use multiple exception blocks, if yes then give an example.\n",
    "7. Write the reason due to which following errors are raised:\n",
    "a. EOFError\n",
    "b. FloatingPointError\n",
    "c. IndexError\n",
    "d. MemoryError\n",
    "e. OverflowError\n",
    "f. TabError\n",
    "g. ValueError\n",
    "8. Write code for the following given scenario and add try-exception block to it.\n",
    "a. Program to divide two numbers\n",
    "b. Program to convert a string to an integer\n",
    "c. Program to access an element in a list\n",
    "d. Program to handle a specific exception\n",
    "e. Program to handle any exception"
   ]
  },
  {
   "cell_type": "code",
   "execution_count": null,
   "id": "2f112e39",
   "metadata": {},
   "outputs": [],
   "source": [
    "#1. What is the role of try and exception block?\n",
    "\n",
    "\"\"\"\n",
    "Try-except block is used to handle any runtime exceptions for smooth application process.\n",
    "This prevents system from crashing down due to a exception and allow to handle it manually or close in use resources before closing the app\n",
    "\"\"\"\n"
   ]
  },
  {
   "cell_type": "code",
   "execution_count": null,
   "id": "a86feb7b",
   "metadata": {},
   "outputs": [],
   "source": [
    "#2. What is the syntax for a basic try-except block?\n",
    "\n",
    "try:\n",
    "    # code which can have potential exceptions\n",
    "    \n",
    "except:\n",
    "    # action to take if exception occurs"
   ]
  },
  {
   "cell_type": "code",
   "execution_count": 2,
   "id": "846c16a1",
   "metadata": {},
   "outputs": [
    {
     "name": "stdout",
     "output_type": "stream",
     "text": [
      "except block\n"
     ]
    }
   ],
   "source": [
    "#3. What happens if an exception occurs inside a try block and there is no matching except block?\n",
    "\n",
    "try:\n",
    "    print(x)   # This will throw an error and try in itself is incomplete block without except or else\n",
    "# except:\n",
    "#     print(\"except block\")"
   ]
  },
  {
   "cell_type": "code",
   "execution_count": null,
   "id": "ca345514",
   "metadata": {},
   "outputs": [],
   "source": [
    "#4. What is the difference between using a bare except block and specifying a specific exception type?\n",
    "\n",
    "\"\"\"\n",
    "bare except block will handle all kind of exceptions thrown from try block\n",
    "whereas, specific except will only handle that type of exceptions.\n",
    "\"\"\""
   ]
  },
  {
   "cell_type": "code",
   "execution_count": 3,
   "id": "f86f462e",
   "metadata": {},
   "outputs": [
    {
     "name": "stdout",
     "output_type": "stream",
     "text": [
      "Outer block\n",
      "Outer except block\n"
     ]
    }
   ],
   "source": [
    "#5. Can you have nested try-except blocks in Python? If yes, then give an example.\n",
    "\n",
    "\"\"\"\n",
    "nested try-except blocks are allowed in python.\n",
    "and exception not caught by inner except is handled in outer except block\n",
    "\"\"\"\n",
    "\n",
    "try:\n",
    "    print(\"Outer try block\")\n",
    "    try:\n",
    "        print(x/0)\n",
    "    except ZeroDivisionError:\n",
    "        print(\"Inner except bloxk for zero division error\")\n",
    "except:\n",
    "    print(\"Outer except block\")\n",
    "        "
   ]
  },
  {
   "cell_type": "code",
   "execution_count": 7,
   "id": "6acaffd3",
   "metadata": {},
   "outputs": [
    {
     "name": "stdout",
     "output_type": "stream",
     "text": [
      "Bare exception\n"
     ]
    }
   ],
   "source": [
    "#6. Can we use multiple exception blocks, if yes then give an example.\n",
    "# yes, we can have multiple except block, but they should be defined in such a order that children exception are caught fisrt\n",
    "\n",
    "try:\n",
    "    print(x)\n",
    "    y=5/0\n",
    "except ZeroDivisionError:\n",
    "    print(\"Zero division error\")\n",
    "except:\n",
    "    print(\"Bare exception\")"
   ]
  },
  {
   "cell_type": "code",
   "execution_count": null,
   "id": "6103bcac",
   "metadata": {},
   "outputs": [],
   "source": [
    "\"\"\"\n",
    "7. Write the reason due to which following errors are raised:\n",
    "a. EOFError  -- When input function reaches EOF\n",
    "b. FloatingPointError --when a floating point operation fails\n",
    "c. IndexError  -- Trying to access out of range index\n",
    "d. MemoryError  -- operation runs out of memory\n",
    "e. OverflowError -- result of an arithmetic operation is too large\n",
    "f. TabError -- indentation is inconsistent\n",
    "g. ValueError -- invalid value received for a datatype\n",
    "\"\"\""
   ]
  },
  {
   "cell_type": "code",
   "execution_count": 15,
   "id": "24b0cc69",
   "metadata": {},
   "outputs": [
    {
     "name": "stdout",
     "output_type": "stream",
     "text": [
      "First Number4\n",
      "Second Number0\n",
      "Exception caught: division by zero\n"
     ]
    }
   ],
   "source": [
    "\"\"\"8. Write code for the following given scenario and add try-exception block to it.\n",
    "a. Program to divide two numbers\n",
    "b. Program to convert a string to an integer\n",
    "c. Program to access an element in a list\n",
    "d. Program to handle a specific exception\n",
    "e. Program to handle any exception\"\"\"\n",
    "\n",
    "#a. Program to divide two numbers\n",
    "try:\n",
    "    x=int(input(\"First Number\"))\n",
    "    y=int(input(\"Second Number\"))\n",
    "    print(x/y)\n",
    "except ZeroDivisionError as z:\n",
    "    print(f\"Exception caught: {z}\")"
   ]
  },
  {
   "cell_type": "code",
   "execution_count": 13,
   "id": "7197337e",
   "metadata": {},
   "outputs": [
    {
     "name": "stdout",
     "output_type": "stream",
     "text": [
      "First Number6\n",
      "Second Number6\n",
      "Exception caught : unsupported operand type(s) for /: 'str' and 'str'\n"
     ]
    }
   ],
   "source": [
    "#b. Program to convert a string to an integer\n",
    "try:\n",
    "    x=(input(\"First Number\"))\n",
    "    y=(input(\"Second Number\"))\n",
    "    print(x/y)\n",
    "except Exception as e :\n",
    "    print(f\"Exception caught : {e}\")"
   ]
  },
  {
   "cell_type": "code",
   "execution_count": 14,
   "id": "3189d968",
   "metadata": {},
   "outputs": [
    {
     "name": "stdout",
     "output_type": "stream",
     "text": [
      "Exception caught : list index out of range\n"
     ]
    }
   ],
   "source": [
    "#c. Program to access an element in a list\n",
    "\n",
    "li=[5,6,3,89]\n",
    "try:\n",
    "    print(li[9])\n",
    "except Exception as e :\n",
    "    print(f\"Exception caught : {e}\")"
   ]
  },
  {
   "cell_type": "code",
   "execution_count": 16,
   "id": "2611df9e",
   "metadata": {},
   "outputs": [
    {
     "name": "stdout",
     "output_type": "stream",
     "text": [
      "First Number4\n",
      "Second Number0\n",
      "Exception caught: division by zero\n"
     ]
    }
   ],
   "source": [
    "#d. Program to handle a specific exception\n",
    "try:\n",
    "    x=int(input(\"First Number\"))\n",
    "    y=int(input(\"Second Number\"))\n",
    "    print(x/y)\n",
    "except ZeroDivisionError as z:\n",
    "    print(f\"Exception caught: {z}\")"
   ]
  },
  {
   "cell_type": "code",
   "execution_count": 18,
   "id": "8d53f674",
   "metadata": {},
   "outputs": [
    {
     "name": "stdout",
     "output_type": "stream",
     "text": [
      "Exception caught: name 'm' is not defined\n"
     ]
    }
   ],
   "source": [
    "#e. Program to handle any exception\n",
    "try:\n",
    "    print(m)\n",
    "    x=int(input(\"First Number\"))\n",
    "    y=int(input(\"Second Number\"))\n",
    "    print(x/y)\n",
    "except Exception as z:\n",
    "    print(f\"Exception caught: {z}\")"
   ]
  },
  {
   "cell_type": "code",
   "execution_count": null,
   "id": "dcb2ffeb",
   "metadata": {},
   "outputs": [],
   "source": []
  }
 ],
 "metadata": {
  "kernelspec": {
   "display_name": "Python 3 (ipykernel)",
   "language": "python",
   "name": "python3"
  },
  "language_info": {
   "codemirror_mode": {
    "name": "ipython",
    "version": 3
   },
   "file_extension": ".py",
   "mimetype": "text/x-python",
   "name": "python",
   "nbconvert_exporter": "python",
   "pygments_lexer": "ipython3",
   "version": "3.11.3"
  }
 },
 "nbformat": 4,
 "nbformat_minor": 5
}
